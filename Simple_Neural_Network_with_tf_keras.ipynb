{
  "nbformat": 4,
  "nbformat_minor": 0,
  "metadata": {
    "colab": {
      "name": "Simple Neural Network with tf.keras.ipynb",
      "version": "0.3.2",
      "provenance": [],
      "include_colab_link": true
    }
  },
  "cells": [
    {
      "cell_type": "markdown",
      "metadata": {
        "id": "view-in-github",
        "colab_type": "text"
      },
      "source": [
        "[View in Colaboratory](https://colab.research.google.com/github/machinelearning147/TensorFlow-Tutorials/blob/master/Simple_Neural_Network_with_tf_keras.ipynb)"
      ]
    },
    {
      "metadata": {
        "id": "ptkWMWLtxeNh",
        "colab_type": "text"
      },
      "cell_type": "markdown",
      "source": [
        "# Tensorflow + Keras + Colaboratory = deep learning made easy\n",
        "![alt text](https://cdn-images-1.medium.com/max/634/1*-r7EkRUvzkqDyyr2kwdeDg.png)\n",
        "\n",
        "![alt text](https://lh3.googleusercontent.com/jKDpJZTAVMEBtbvn69tvnckMASk6RnMBjD07oCr3D1j9j3SSu2WPXKAcWWs=w530-h278-p-rw)\n",
        "\n",
        "[tf.keras docs](https://t.co/LAGOoR5EqI)\n",
        "\n",
        "\n",
        "---\n",
        "\n",
        "\n"
      ]
    },
    {
      "metadata": {
        "id": "elMZ3yjjwB-I",
        "colab_type": "code",
        "colab": {}
      },
      "cell_type": "code",
      "source": [
        ""
      ],
      "execution_count": 0,
      "outputs": []
    }
  ]
}