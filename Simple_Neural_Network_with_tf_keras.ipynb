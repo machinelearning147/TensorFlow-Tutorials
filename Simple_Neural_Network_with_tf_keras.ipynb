{
  "nbformat": 4,
  "nbformat_minor": 0,
  "metadata": {
    "colab": {
      "name": "Simple Neural Network with tf.keras.ipynb",
      "version": "0.3.2",
      "provenance": [],
      "include_colab_link": true
    }
  },
  "cells": [
    {
      "cell_type": "markdown",
      "metadata": {
        "id": "view-in-github",
        "colab_type": "text"
      },
      "source": [
        "[View in Colaboratory](https://colab.research.google.com/github/machinelearning147/TensorFlow-Tutorials/blob/master/Simple_Neural_Network_with_tf_keras.ipynb)"
      ]
    },
    {
      "metadata": {
        "id": "elMZ3yjjwB-I",
        "colab_type": "code",
        "colab": {}
      },
      "cell_type": "code",
      "source": [
        ""
      ],
      "execution_count": 0,
      "outputs": []
    }
  ]
}